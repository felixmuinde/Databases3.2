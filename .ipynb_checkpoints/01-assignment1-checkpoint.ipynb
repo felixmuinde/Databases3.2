{
 "cells": [
  {
   "cell_type": "code",
   "execution_count": null,
   "id": "b21221fa-7994-40a8-afe2-92dd3ff4796b",
   "metadata": {},
   "outputs": [],
   "source": [
    "import pymysql\n",
    "import pandas as pd\n",
    "import warnings\n",
    "\n",
    "warnings.filterwarnings('igonre')\n",
    "\n",
    "db = \"md_water_services\"\n",
    "port = 3306\n",
    "host = \"localhost\"\n",
    "uname = \"root\"\n",
    "pw = \"42069\"\n",
    "\n",
    "try:\n",
    "    conn = pymy"
   ]
  }
 ],
 "metadata": {
  "kernelspec": {
   "display_name": "Python 3 (ipykernel)",
   "language": "python",
   "name": "python3"
  },
  "language_info": {
   "codemirror_mode": {
    "name": "ipython",
    "version": 3
   },
   "file_extension": ".py",
   "mimetype": "text/x-python",
   "name": "python",
   "nbconvert_exporter": "python",
   "pygments_lexer": "ipython3",
   "version": "3.13.2"
  }
 },
 "nbformat": 4,
 "nbformat_minor": 5
}
