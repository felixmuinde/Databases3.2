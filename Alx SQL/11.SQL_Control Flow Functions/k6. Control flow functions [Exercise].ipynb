{
 "cells": [
  {
   "attachments": {},
   "cell_type": "markdown",
   "id": "bf17eebd",
   "metadata": {},
   "source": [
    "<div align=\"right\" style=\" font-size: 80%; text-align: center; margin: 0 auto\">\n",
    "<img\n",
    " src=\"https://raw.githubusercontent.com/Explore-AI/Pictures/master/alx-courses/aice/assets/Content_page_banner_blue_dots.png\"\n",
    " alt=\"ALX Content Header\"\n",
    " class=\"full-width-image\"\n",
    "/>\n",
    "</div>"
   ]
  },
  {
   "attachments": {},
   "cell_type": "markdown",
   "id": "f662d169",
   "metadata": {},
   "source": [
    "# Control flow functions"
   ]
  },
  {
   "attachments": {},
   "cell_type": "markdown",
   "id": "26af890c",
   "metadata": {},
   "source": [
    "In this exercise, we'll use control flow functions to break down a complex problem into its fundamental components."
   ]
  },
  {
   "attachments": {},
   "cell_type": "markdown",
   "id": "2d230d14",
   "metadata": {
    "tags": []
   },
   "source": [
    "## Learning objectives\n",
    "\n",
    "In this train, we will learn to:\n",
    "- Use the `IIF` control function to check for a certain condition and return a value for each scenario.\n",
    "- Use the `CASE` statement to categorise data in an existing column."
   ]
  },
  {
   "attachments": {},
   "cell_type": "markdown",
   "id": "5a0b7683",
   "metadata": {
    "tags": []
   },
   "source": [
    "First, let's load our sample database:"
   ]
  },
  {
   "cell_type": "code",
   "execution_count": null,
   "id": "0f34ea72",
   "metadata": {},
   "outputs": [],
   "source": [
    "# Load and activate the SQL extension to allow us to execute SQL in a Jupyter notebook.\n",
    "%load_ext sql"
   ]
  },
  {
   "cell_type": "code",
   "execution_count": null,
   "id": "d279a04d",
   "metadata": {},
   "outputs": [],
   "source": [
    "# Load the Northwind database stored in your local machine. \n",
    "# Make sure the file is saved in the same folder as this notebook.\n",
    "%sql sqlite:///Northwind.db"
   ]
  },
  {
   "attachments": {},
   "cell_type": "markdown",
   "id": "6a05d15e",
   "metadata": {},
   "source": [
    "Here is a view of all of our tables in the database:\n",
    "\n",
    "<div align=\"center\" style=\" font-size: 80%; text-align: center; margin: 0 auto\">\n",
    "<img src=\"https://raw.githubusercontent.com/Explore-AI/Pictures/master/Northwind_ERD.png\"  style=\"width:70%\";/>\n",
    "<br>\n",
    "<br>\n",
    "    <em>Figure 1: Northwind database ERD</em>\n",
    "</div>"
   ]
  },
  {
   "attachments": {},
   "cell_type": "markdown",
   "id": "920e89d2",
   "metadata": {
    "tags": []
   },
   "source": [
    "## Exercise\n"
   ]
  },
  {
   "attachments": {},
   "cell_type": "markdown",
   "id": "86802726",
   "metadata": {},
   "source": [
    "### 1. Categorise employees based on salaries\n",
    "\n",
    "Using the `Employees` table in the Northwind database, write a SQL query that returns a list of all employees along with a column `HighSalary` that shows 'Yes' if the employee's salary is above \\$50,000 and 'No' otherwise."
   ]
  },
  {
   "cell_type": "code",
   "execution_count": null,
   "id": "91f3421f",
   "metadata": {},
   "outputs": [],
   "source": [
    "# Add your code here"
   ]
  },
  {
   "attachments": {},
   "cell_type": "markdown",
   "id": "f0fade51",
   "metadata": {},
   "source": [
    "### 2. Categorise orders based on quantity\n",
    "\n",
    "Based on the `OrderDetails` table, write a SQL query that categorises orders into 'Small', 'Medium', or 'Large' based on the order quantity: Small (less than 20), Medium (between 20 and 100), and Large (more than 100)."
   ]
  },
  {
   "cell_type": "code",
   "execution_count": null,
   "id": "748f4263",
   "metadata": {},
   "outputs": [],
   "source": [
    "# Add your code here"
   ]
  },
  {
   "attachments": {},
   "cell_type": "markdown",
   "id": "f28aef00",
   "metadata": {},
   "source": [
    "### 3. Replace country if `NULL`\n",
    "\n",
    "Suppose some records in the `Customers` table have null values in the `Country` column. Write a SQL query that retrieves all customers, and if the country of a customer is `NULL`, replace it with the text 'Not Provided'."
   ]
  },
  {
   "cell_type": "code",
   "execution_count": null,
   "id": "f4621a53",
   "metadata": {},
   "outputs": [],
   "source": [
    "# Add your code here"
   ]
  },
  {
   "attachments": {},
   "cell_type": "markdown",
   "id": "d151cbb4",
   "metadata": {},
   "source": [
    "### 4. Calculate the average price of products\n",
    "\n",
    "Using the `Products` table, write a SQL query that calculates the average unit price of all products. Then, for each product, show its name, unit price, and a column `Price Comparison` that shows whether its price is 'Below Average', 'Average', or 'Above Average'."
   ]
  },
  {
   "cell_type": "code",
   "execution_count": null,
   "id": "1e003247",
   "metadata": {},
   "outputs": [],
   "source": [
    "# Add your code here"
   ]
  },
  {
   "attachments": {},
   "cell_type": "markdown",
   "id": "eaf9cbc7",
   "metadata": {},
   "source": [
    "### 5. Identify top management employees\n",
    "\n",
    "In the `Employees` table, assume the `ReportsTo` column has some null values which represent the highest-level employees (such as a CEO). Write a SQL query to list all employees and display a new column `Position` that labels the employee as 'Top Management' if the `ReportsTo` column is `NULL`, and 'Staff' otherwise."
   ]
  },
  {
   "cell_type": "code",
   "execution_count": null,
   "id": "cd357061",
   "metadata": {},
   "outputs": [],
   "source": [
    "# Add your code here"
   ]
  },
  {
   "attachments": {},
   "cell_type": "markdown",
   "id": "a9470761",
   "metadata": {},
   "source": [
    "### Challenge question\n",
    "\n",
    "You are working with a products inventory database which has a Products table with the following columns:\n",
    "\n",
    "- `ProductID`\n",
    "- `ProductName`\n",
    "- `UnitPrice`\n",
    "- `UnitsInStock`\n",
    "- `ReorderLevel`\n",
    "- `SupplierCountry`\n",
    "\n",
    "Your manager wants to assess the company's stock levels and has asked for your assistance."
   ]
  },
  {
   "attachments": {},
   "cell_type": "markdown",
   "id": "6980141e",
   "metadata": {},
   "source": [
    "Write a SQL query that retrieves the following information:\n",
    "\n",
    "- `ProductName`\n",
    "- `UnitPrice`\n",
    "- `UnitsInStock`\n",
    "- A column `StockStatus` that categorises the stock level of each product as 'Low', 'Medium', or 'High' based on the `UnitsInStock` (Use a `CASE` statement to create this column where 'Low' is less than 20 units, 'Medium' is between 20 and 50 units, 'High' is over 50 units).\n",
    "- A column `PriceLevel` that categorises the price of each product as 'Cheap', 'Affordable', or 'Expensive' based on the `UnitPrice` (Use a `CASE` statement to create this column where 'Cheap' is less than \\$10, 'Affordable' is between \\$10 and \\$50, 'Expensive' is over \\$50).\n",
    "\n",
    "Your SQL query should consider the use of aggregation functions, date functions, control flow functions, and string functions."
   ]
  },
  {
   "cell_type": "code",
   "execution_count": null,
   "id": "a5858f61",
   "metadata": {},
   "outputs": [],
   "source": [
    "# Add your code here"
   ]
  },
  {
   "attachments": {},
   "cell_type": "markdown",
   "id": "b3c88335",
   "metadata": {
    "tags": []
   },
   "source": [
    "## Solutions"
   ]
  },
  {
   "attachments": {},
   "cell_type": "markdown",
   "id": "a5084b12",
   "metadata": {
    "tags": []
   },
   "source": [
    "### 1. Categorise employees based on salaries\n",
    "\n",
    "This query uses the `IIF` control function to check if each employee's salary is greater than 50,000. If it is, the function returns 'Yes', otherwise 'No'. This result is displayed in the new column `HighSalary`.\n",
    "\n",
    "Expected outcome: A table with columns `FirstName`, `LastName`, and `HighSalary`. The `HighSalary` column displays 'Yes' or 'No' depending on each employee's salary.\n",
    "\n",
    "**NOTE:** The `IF` function is not supported in SQLite, so we use the `IIF` function which is the SQLite equivalent for `IF`.\n",
    "\n"
   ]
  },
  {
   "cell_type": "code",
   "execution_count": null,
   "id": "c968d875",
   "metadata": {},
   "outputs": [],
   "source": [
    "%%sql\n",
    "\n",
    "SELECT \n",
    "       FirstName, \n",
    "       LastName, \n",
    "       IIF(Salary > 50000, 'Yes', 'No') AS HighSalary \n",
    "FROM \n",
    "       Employees;"
   ]
  },
  {
   "attachments": {},
   "cell_type": "markdown",
   "id": "294d8eef",
   "metadata": {},
   "source": [
    "### 2. Categorise orders based on quantity\n",
    "\n",
    "This query uses the `CASE` statement to categorise the size of each order. If the quantity of an order is less than 20, it's categorised as 'Small'. If it's between 20 and 100, it's 'Medium'. Otherwise, it's 'Large'.\n",
    "\n",
    "Expected outcome: A table with columns `OrderID` and `OrderSize`. The `OrderSize` column displays 'Small', 'Medium', or 'Large' depending on each order's quantity."
   ]
  },
  {
   "cell_type": "code",
   "execution_count": null,
   "id": "03071e34",
   "metadata": {},
   "outputs": [],
   "source": [
    "%%sql\n",
    "\n",
    "SELECT\n",
    "    OrderID, \n",
    "    CASE\n",
    "        WHEN (Quantity < 20) THEN 'Small'\n",
    "        WHEN Quantity BETWEEN 20 AND 100 THEN 'Medium'\n",
    "        ELSE 'Large'\n",
    "    END as OrderSize\n",
    "FROM \n",
    "    OrderDetails;"
   ]
  },
  {
   "attachments": {},
   "cell_type": "markdown",
   "id": "eafe40b6",
   "metadata": {},
   "source": [
    "### 3. Replace country if `NULL`\n",
    "\n",
    "This query uses the `IFNULL` function to replace null values in the `Country` column with 'Not Provided'.\n",
    "\n",
    "Expected outcome: A table with columns `CustomerID`, `CompanyName`, and `Country`. The `Country` column displays the name of the country or 'Not Provided' if the original value was `NULL`."
   ]
  },
  {
   "cell_type": "code",
   "execution_count": null,
   "id": "1ffd2239",
   "metadata": {},
   "outputs": [],
   "source": [
    "%%sql \n",
    "\n",
    "SELECT \n",
    "    CustomerID, \n",
    "    CompanyName, \n",
    "    IFNULL(Country, 'Not Provided') AS Country\n",
    "FROM \n",
    "    Customers;"
   ]
  },
  {
   "attachments": {},
   "cell_type": "markdown",
   "id": "b0e27793",
   "metadata": {},
   "source": [
    "### 4. Calculate the average price of products\n",
    "\n",
    "This query calculates the average unit price of all products. Then, it compares the unit price of each product with this average and labels it as 'Below Average', 'Average', or 'Above Average' accordingly.\n",
    "\n",
    "Expected outcome: A table with columns `ProductName`, `UnitPrice`, and `PriceComparison`. The `PriceComparison` column displays 'Below Average', 'Average', or 'Above Average' depending on each product's unit price."
   ]
  },
  {
   "cell_type": "code",
   "execution_count": null,
   "id": "b2cb2438",
   "metadata": {},
   "outputs": [],
   "source": [
    "%%sql\n",
    "\n",
    "SELECT \n",
    "    ProductName, \n",
    "    UnitPrice, \n",
    "    CASE\n",
    "        WHEN UnitPrice < (SELECT AVG(UnitPrice) FROM Products) THEN 'Below Average'\n",
    "        WHEN UnitPrice = (SELECT AVG(UnitPrice) FROM Products) THEN 'Average'\n",
    "        ELSE 'Above Average'\n",
    "    END as PriceComparison\n",
    "FROM \n",
    "    Products;"
   ]
  },
  {
   "attachments": {},
   "cell_type": "markdown",
   "id": "80cf9c15",
   "metadata": {},
   "source": [
    "### 5. Identify top management employees\n",
    "\n",
    "This query uses the `IIF` function to check if the `ReportsTo` field of an employee is `NULL`. If it is, the employee is labelled as 'Top Management', otherwise 'Staff'.\n",
    "\n",
    "Expected outcome: A table with columns `FirstName`, `LastName`, and `Position`. The `Position` column displays 'Top Management' or 'Staff' depending on the `ReportsTo` field of each employee.\n",
    "\n"
   ]
  },
  {
   "cell_type": "code",
   "execution_count": null,
   "id": "5d19c817",
   "metadata": {},
   "outputs": [],
   "source": [
    "%%sql\n",
    "\n",
    "SELECT \n",
    "    FirstName, \n",
    "    LastName,\n",
    "    IIF(ReportsTo IS NULL, 'Top Management', 'Staff') as Position\n",
    "FROM \n",
    "    Employees;"
   ]
  },
  {
   "attachments": {},
   "cell_type": "markdown",
   "id": "cef17c5e",
   "metadata": {},
   "source": [
    "### Challenge question\n",
    "\n",
    "This problem requires the integration of SQL querying with some basic logic and control flow.\n",
    "\n",
    "Here is a step-by-step breakdown of how to approach solving this problem:"
   ]
  },
  {
   "cell_type": "markdown",
   "id": "469c9f2d",
   "metadata": {},
   "source": [
    "1. **Identify required fields:** The first part of the problem is straightforward. We're being asked to retrieve `ProductName`, `UnitsInStock`, and `UnitPrice` from our `Products` table. These fields can be directly selected in our SQL query.\n",
    "\n",
    "2. **Categorise stock levels:** We need to create a new field, `StockStatus`, that categorises the stock level based on the `UnitsInStock`. This requires the use of a control flow function – specifically, a `CASE` statement. The `CASE` statement allows us to conditionally return results based on the value of another field. In this case, we will categorise `UnitsInStock` as 'Low' if less than 20, 'Medium' if between 20 and 50, and 'High' if more than 50.\n",
    "\n",
    "3. **Categorise price levels:** Similarly, we need to create another field, `PriceLevel`, that categorises the price of a product based on the `UnitPrice`. We'll again use a `CASE` statement to accomplish this. We will categorise `UnitPrice` as *Cheap* if less than \\$10, *Affordable* if between \\$10 and \\$50, and *Expensive* if more than \\$50."
   ]
  },
  {
   "cell_type": "markdown",
   "id": "7683b24a",
   "metadata": {},
   "source": [
    "So, to solve the problem, we would write a SQL query that selects the required fields and uses `CASE` statements to create the new `StockStatus` and `PriceLevel` fields based on the conditions described above.\n",
    "\n",
    "In SQL, this would look something like:"
   ]
  },
  {
   "cell_type": "code",
   "execution_count": null,
   "id": "f3013f0f",
   "metadata": {},
   "outputs": [],
   "source": [
    "%%sql\n",
    "\n",
    "SELECT \n",
    "    ProductName,\n",
    "    UnitsInStock,\n",
    "    UnitPrice,\n",
    "    CASE\n",
    "        WHEN UnitsInStock < 20 THEN 'Low'\n",
    "        WHEN UnitsInStock BETWEEN 20 AND 50 THEN 'Medium'\n",
    "        ELSE 'High'\n",
    "    END AS StockStatus,\n",
    "    CASE\n",
    "        WHEN UnitPrice < 10 THEN 'Cheap'\n",
    "        WHEN UnitPrice BETWEEN 10 AND 50 THEN 'Affordable'\n",
    "        ELSE 'Expensive'\n",
    "    END AS PriceLevel\n",
    "FROM \n",
    "    Products;"
   ]
  },
  {
   "attachments": {},
   "cell_type": "markdown",
   "id": "26fd094b-0fee-46f1-a4b8-73766813c42b",
   "metadata": {
    "tags": []
   },
   "source": [
    "#  \n",
    "\n",
    "<div align=\"center\" style=\" font-size: 80%; text-align: center; margin: 0 auto\">\n",
    "<img src=\"https://raw.githubusercontent.com/Explore-AI/Pictures/refs/heads/master/ALX_banners/ALX_Navy.png\"  style=\"width:100px\"  ;/>\n",
    "</div>"
   ]
  }
 ],
 "metadata": {
  "kernelspec": {
   "display_name": "Python 3 (ipykernel)",
   "language": "python",
   "name": "python3"
  },
  "language_info": {
   "codemirror_mode": {
    "name": "ipython",
    "version": 3
   },
   "file_extension": ".py",
   "mimetype": "text/x-python",
   "name": "python",
   "nbconvert_exporter": "python",
   "pygments_lexer": "ipython3",
   "version": "3.11.4"
  }
 },
 "nbformat": 4,
 "nbformat_minor": 5
}
